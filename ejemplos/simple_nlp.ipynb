{
 "metadata": {
  "name": "",
  "signature": "sha256:517159be6f65d6a2bbafe2dd115ec804240388315944c9b25212641db70833d2"
 },
 "nbformat": 3,
 "nbformat_minor": 0,
 "worksheets": [
  {
   "cells": [
    {
     "cell_type": "heading",
     "level": 1,
     "metadata": {},
     "source": [
      "Un NLP simple"
     ]
    },
    {
     "cell_type": "markdown",
     "metadata": {},
     "source": [
      "\\begin{equation}\n",
      "\\begin{array}{cl}\n",
      "\\underset{x}{\\text{min}} & x_1^2 + x_2^2 \\\\\n",
      "\\text{sujeto a} & x_1 + x_2 = 10\n",
      "\\end{array}\n",
      "\\end{equation}"
     ]
    },
    {
     "cell_type": "code",
     "collapsed": false,
     "input": [
      "from casadi import *"
     ],
     "language": "python",
     "metadata": {},
     "outputs": [],
     "prompt_number": 1
    },
    {
     "cell_type": "heading",
     "level": 2,
     "metadata": {},
     "source": [
      "Definimos las variables"
     ]
    },
    {
     "cell_type": "code",
     "collapsed": false,
     "input": [
      "x = SX.sym(\"x\",2)"
     ],
     "language": "python",
     "metadata": {},
     "outputs": [],
     "prompt_number": 2
    },
    {
     "cell_type": "heading",
     "level": 2,
     "metadata": {},
     "source": [
      "Creamos la funci\u00f3n objetivo y restricciones del NLP"
     ]
    },
    {
     "cell_type": "code",
     "collapsed": false,
     "input": [
      "f = x[0]**2 + x[1]**2 # objective\n",
      "g = x[0]+x[1]-10      # constraint\n",
      "nlp = SXFunction('nlp', nlpIn(x=x), nlpOut(f=f, g=g))"
     ],
     "language": "python",
     "metadata": {},
     "outputs": [],
     "prompt_number": 3
    },
    {
     "cell_type": "heading",
     "level": 2,
     "metadata": {},
     "source": [
      "Elegimos un solver y configuramos sus opciones"
     ]
    },
    {
     "cell_type": "code",
     "collapsed": false,
     "input": [
      "MySolver = \"ipopt\"\n",
      "#MySolver = \"worhp\"\n",
      "#MySolver = \"sqpmethod\"\n",
      "\n",
      "opts = {}\n",
      "if MySolver==\"sqpmethod\":\n",
      "  opts[\"qp_solver\"] = \"qpoases\"\n",
      "  opts[\"qp_solver_options\"] = {\"printLevel\":\"none\"}"
     ],
     "language": "python",
     "metadata": {},
     "outputs": [],
     "prompt_number": 4
    },
    {
     "cell_type": "heading",
     "level": 2,
     "metadata": {},
     "source": [
      "Creamos el solver NLP"
     ]
    },
    {
     "cell_type": "code",
     "collapsed": false,
     "input": [
      "solver = NlpSolver(\"solver\", MySolver, nlp, opts)"
     ],
     "language": "python",
     "metadata": {},
     "outputs": [],
     "prompt_number": 5
    },
    {
     "cell_type": "heading",
     "level": 2,
     "metadata": {},
     "source": [
      "Resolvemos el NLP"
     ]
    },
    {
     "cell_type": "code",
     "collapsed": false,
     "input": [
      "sol = solver({\"lbg\" : 0})"
     ],
     "language": "python",
     "metadata": {},
     "outputs": [
      {
       "output_type": "stream",
       "stream": "stdout",
       "text": [
        "\n",
        "******************************************************************************\n",
        "This program contains Ipopt, a library for large-scale nonlinear optimization.\n",
        " Ipopt is released as open source code under the Eclipse Public License (EPL).\n",
        "         For more information visit http://projects.coin-or.org/Ipopt\n",
        "******************************************************************************\n",
        "\n",
        "This is Ipopt version 3.12.3, running with linear solver mumps.\n",
        "NOTE: Other linear solvers might be more efficient (see Ipopt documentation).\n",
        "\n",
        "Number of nonzeros in equality constraint Jacobian...:        0\n",
        "Number of nonzeros in inequality constraint Jacobian.:        2\n",
        "Number of nonzeros in Lagrangian Hessian.............:        2\n",
        "\n",
        "Total number of variables............................:        2\n",
        "                     variables with only lower bounds:        0\n",
        "                variables with lower and upper bounds:        0\n",
        "                     variables with only upper bounds:        0\n",
        "Total number of equality constraints.................:        0\n",
        "Total number of inequality constraints...............:        1\n",
        "        inequality constraints with only lower bounds:        1\n",
        "   inequality constraints with lower and upper bounds:        0\n",
        "        inequality constraints with only upper bounds:        0\n",
        "\n",
        "iter    objective    inf_pr   inf_du lg(mu)  ||d||  lg(rg) alpha_du alpha_pr  ls\n",
        "   0  0.0000000e+00 6.00e+00 6.67e-01  -1.0 0.00e+00    -  0.00e+00 0.00e+00   0\n",
        "   1  1.8298255e+01 0.00e+00 1.00e-06  -1.0 3.02e+00    -  1.00e+00 1.00e+00h  1\n",
        "   2  1.8022093e+01 0.00e+00 2.00e-07  -1.7 4.58e-02    -  1.00e+00 1.00e+00f  1\n",
        "   3  1.8000164e+01 0.00e+00 1.50e-09  -3.8 3.65e-03    -  1.00e+00 1.00e+00f  1\n",
        "   4  1.8000002e+01 0.00e+00 1.84e-11  -5.7 2.70e-05    -  1.00e+00 1.00e+00f  1\n",
        "   5  1.8000000e+01 0.00e+00 2.58e-14  -8.6 3.07e-07    -  1.00e+00 1.00e+00f  1\n",
        "\n",
        "Number of Iterations....: 5\n",
        "\n",
        "                                   (scaled)                 (unscaled)\n",
        "Objective...............:   1.7999999942505998e+01    1.7999999942505998e+01\n",
        "Dual infeasibility......:   2.5757174171303632e-14    2.5757174171303632e-14\n",
        "Constraint violation....:   0.0000000000000000e+00    0.0000000000000000e+00\n",
        "Complementarity.........:   2.5059979307049679e-09    2.5059979307049679e-09\n",
        "Overall NLP error.......:   2.5059979307049679e-09    2.5059979307049679e-09\n",
        "\n",
        "\n",
        "Number of objective function evaluations             = 6\n",
        "Number of objective gradient evaluations             = 6\n",
        "Number of equality constraint evaluations            = 0\n",
        "Number of inequality constraint evaluations          = 6\n",
        "Number of equality constraint Jacobian evaluations   = 0\n",
        "Number of inequality constraint Jacobian evaluations = 6\n",
        "Number of Lagrangian Hessian evaluations             = 5\n",
        "Total CPU secs in IPOPT (w/o function evaluations)   =      0.000\n",
        "Total CPU secs in NLP function evaluations           =      0.000\n",
        "\n",
        "EXIT: Optimal Solution Found.\n",
        "                   proc           wall      num           mean             mean\n",
        "                   time           time     evals       proc time        wall time\n",
        "       eval_f     0.000 [s]      0.000 [s]     6       0.00 [ms]        0.00 [ms]\n",
        "  eval_grad_f     0.000 [s]      0.000 [s]     7       0.01 [ms]        0.01 [ms]\n",
        "       eval_g     0.000 [s]      0.000 [s]     6       0.01 [ms]        0.01 [ms]\n",
        "   eval_jac_g     0.000 [s]      0.000 [s]     8       0.00 [ms]        0.00 [ms]\n",
        "       eval_h     0.000 [s]      0.000 [s]     6       0.01 [ms]        0.01 [ms]\n",
        " all previous     0.000 [s]      0.000 [s]\n",
        "        ipopt     0.003 [s]      0.003 [s]\n",
        "    main loop     0.004 [s]      0.004 [s]\n"
       ]
      }
     ],
     "prompt_number": 6
    },
    {
     "cell_type": "heading",
     "level": 2,
     "metadata": {},
     "source": [
      "Imprimimos la soluci\u00f3n"
     ]
    },
    {
     "cell_type": "code",
     "collapsed": false,
     "input": [
      "print \"objective at solution = \", sol[\"f\"]\n",
      "print \"primal solution = \", sol[\"x\"]\n",
      "print \"dual solution (x) = \", sol[\"lam_x\"]\n",
      "print \"dual solution (g) = \", sol[\"lam_g\"]"
     ],
     "language": "python",
     "metadata": {},
     "outputs": [
      {
       "output_type": "stream",
       "stream": "stdout",
       "text": [
        "objective at solution =  18\n",
        "primal solution =  [3, 3]\n",
        "dual solution (x) =  [0, 0]\n",
        "dual solution (g) =  -6\n"
       ]
      }
     ],
     "prompt_number": 7
    }
   ],
   "metadata": {}
  }
 ]
}