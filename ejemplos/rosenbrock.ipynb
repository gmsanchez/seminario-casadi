{
 "metadata": {
  "name": "",
  "signature": "sha256:d28dff8b6107b0b99e7a90c787063e59a5b2c18dd1326982283702dfcd23d7d7"
 },
 "nbformat": 3,
 "nbformat_minor": 0,
 "worksheets": [
  {
   "cells": [
    {
     "cell_type": "heading",
     "level": 1,
     "metadata": {},
     "source": [
      "Un cl\u00e1sico: El problema de Rosenbrock"
     ]
    },
    {
     "cell_type": "markdown",
     "metadata": {},
     "source": [
      "\\begin{equation}\n",
      "\\begin{array}{cl}\n",
      "\\underset{x}{\\text{min}} & x^2 + 100 z^2 \\\\\n",
      "\\text{sujeto a} & z+(1-x)^2-y = 0\n",
      "\\end{array}\n",
      "\\end{equation}"
     ]
    },
    {
     "cell_type": "code",
     "collapsed": false,
     "input": [
      "from casadi import *"
     ],
     "language": "python",
     "metadata": {},
     "outputs": [],
     "prompt_number": 2
    },
    {
     "cell_type": "heading",
     "level": 2,
     "metadata": {},
     "source": [
      "Definimos las variables"
     ]
    },
    {
     "cell_type": "code",
     "collapsed": false,
     "input": [
      "x = SX.sym(\"x\")\n",
      "y = SX.sym(\"y\")\n",
      "z = SX.sym(\"z\")"
     ],
     "language": "python",
     "metadata": {},
     "outputs": [],
     "prompt_number": 3
    },
    {
     "cell_type": "heading",
     "level": 2,
     "metadata": {},
     "source": [
      "Creamos la funci\u00f3n objetivo y restricciones del NLP"
     ]
    },
    {
     "cell_type": "code",
     "collapsed": false,
     "input": [
      "f = x**2 + 100*z**2\n",
      "g = z + (1-x)**2 - y\n",
      "nlp = {'x':vertcat([x,y,z]), 'f':f, 'g':g}"
     ],
     "language": "python",
     "metadata": {},
     "outputs": [],
     "prompt_number": 4
    },
    {
     "cell_type": "heading",
     "level": 2,
     "metadata": {},
     "source": [
      "Creamos el solver NLP"
     ]
    },
    {
     "cell_type": "code",
     "collapsed": false,
     "input": [
      "solver = NlpSolver(\"solver\", \"ipopt\", nlp)"
     ],
     "language": "python",
     "metadata": {},
     "outputs": [],
     "prompt_number": 5
    },
    {
     "cell_type": "heading",
     "level": 2,
     "metadata": {},
     "source": [
      "Resolvemos el NLP"
     ]
    },
    {
     "cell_type": "code",
     "collapsed": false,
     "input": [
      "res = solver({\"x0\" :[2.5,3.0,0.75],\n",
      "              \"ubg\" : 0,\n",
      "              \"lbg\" : 0})"
     ],
     "language": "python",
     "metadata": {},
     "outputs": [
      {
       "output_type": "stream",
       "stream": "stdout",
       "text": [
        "\n",
        "******************************************************************************\n",
        "This program contains Ipopt, a library for large-scale nonlinear optimization.\n",
        " Ipopt is released as open source code under the Eclipse Public License (EPL).\n",
        "         For more information visit http://projects.coin-or.org/Ipopt\n",
        "******************************************************************************\n",
        "\n",
        "This is Ipopt version 3.12.3, running with linear solver mumps.\n",
        "NOTE: Other linear solvers might be more efficient (see Ipopt documentation).\n",
        "\n",
        "Number of nonzeros in equality constraint Jacobian...:        3\n",
        "Number of nonzeros in inequality constraint Jacobian.:        0\n",
        "Number of nonzeros in Lagrangian Hessian.............:        2\n",
        "\n",
        "Total number of variables............................:        3\n",
        "                     variables with only lower bounds:        0\n",
        "                variables with lower and upper bounds:        0\n",
        "                     variables with only upper bounds:        0\n",
        "Total number of equality constraints.................:        1\n",
        "Total number of inequality constraints...............:        0\n",
        "        inequality constraints with only lower bounds:        0\n",
        "   inequality constraints with lower and upper bounds:        0\n",
        "        inequality constraints with only upper bounds:        0\n",
        "\n",
        "iter    objective    inf_pr   inf_du lg(mu)  ||d||  lg(rg) alpha_du alpha_pr  ls\n",
        "   0  6.2500000e+01 0.00e+00 9.00e+01  -1.0 0.00e+00    -  0.00e+00 0.00e+00   0\n",
        "   1  1.8457621e+01 1.48e-02 4.10e+01  -1.0 4.10e-01   2.0 1.00e+00 1.00e+00f  1\n",
        "   2  7.8031530e+00 3.84e-03 8.76e+00  -1.0 2.63e-01   1.5 1.00e+00 1.00e+00f  1\n",
        "   3  7.1678278e+00 9.42e-05 1.04e+00  -1.0 9.32e-02   1.0 1.00e+00 1.00e+00f  1\n",
        "   4  6.7419924e+00 6.18e-03 9.95e-01  -1.0 2.69e-01   0.6 1.00e+00 1.00e+00f  1\n",
        "   5  5.4363330e+00 7.03e-02 1.04e+00  -1.7 8.40e-01   0.1 1.00e+00 1.00e+00f  1\n",
        "   6  1.2144815e+00 1.52e+00 1.32e+00  -1.7 3.21e+00  -0.4 1.00e+00 1.00e+00f  1\n",
        "   7  1.0214718e+00 2.51e-01 1.17e+01  -1.7 1.33e+00   0.9 1.00e+00 1.00e+00h  1\n",
        "   8  3.1864085e-01 1.04e-03 7.53e-01  -1.7 3.58e-01    -  1.00e+00 1.00e+00f  1\n",
        "   9  0.0000000e+00 3.19e-01 0.00e+00  -1.7 5.64e-01    -  1.00e+00 1.00e+00f  1\n",
        "iter    objective    inf_pr   inf_du lg(mu)  ||d||  lg(rg) alpha_du alpha_pr  ls\n",
        "  10  0.0000000e+00 0.00e+00 0.00e+00  -1.7 3.19e-01    -  1.00e+00 1.00e+00h  1\n",
        "\n",
        "Number of Iterations....: 10\n",
        "\n",
        "                                   (scaled)                 (unscaled)\n",
        "Objective...............:   0.0000000000000000e+00    0.0000000000000000e+00\n",
        "Dual infeasibility......:   0.0000000000000000e+00    0.0000000000000000e+00\n",
        "Constraint violation....:   0.0000000000000000e+00    0.0000000000000000e+00\n",
        "Complementarity.........:   0.0000000000000000e+00    0.0000000000000000e+00\n",
        "Overall NLP error.......:   0.0000000000000000e+00    0.0000000000000000e+00\n",
        "\n",
        "\n",
        "Number of objective function evaluations             = 11\n",
        "Number of objective gradient evaluations             = 11\n",
        "Number of equality constraint evaluations            = 11\n",
        "Number of inequality constraint evaluations          = 0\n",
        "Number of equality constraint Jacobian evaluations   = 11\n",
        "Number of inequality constraint Jacobian evaluations = 0\n",
        "Number of Lagrangian Hessian evaluations             = 10\n",
        "Total CPU secs in IPOPT (w/o function evaluations)   =      0.000\n",
        "Total CPU secs in NLP function evaluations           =      0.000\n",
        "\n",
        "EXIT: Optimal Solution Found.\n",
        "                   proc           wall      num           mean             mean\n",
        "                   time           time     evals       proc time        wall time\n",
        "       eval_f     0.000 [s]      0.000 [s]    11       0.00 [ms]        0.00 [ms]\n",
        "  eval_grad_f     0.000 [s]      0.000 [s]    12       0.00 [ms]        0.00 [ms]\n",
        "       eval_g     0.000 [s]      0.000 [s]    11       0.00 [ms]        0.00 [ms]\n",
        "   eval_jac_g     0.000 [s]      0.000 [s]    13       0.00 [ms]        0.00 [ms]\n",
        "       eval_h     0.000 [s]      0.000 [s]    11       0.01 [ms]        0.01 [ms]\n",
        " all previous     0.000 [s]      0.000 [s]\n",
        "        ipopt     0.005 [s]      0.005 [s]\n",
        "    main loop     0.006 [s]      0.005 [s]\n"
       ]
      }
     ],
     "prompt_number": 6
    },
    {
     "cell_type": "heading",
     "level": 2,
     "metadata": {},
     "source": [
      "Imprimimos la soluci\u00f3n"
     ]
    },
    {
     "cell_type": "code",
     "collapsed": false,
     "input": [
      "print\n",
      "print \"%50s \" % \"Optimal cost:\", res[\"f\"]\n",
      "print \"%50s \" % \"Primal solution:\", res[\"x\"]\n",
      "print \"%50s \" % \"Dual solution (simple bounds):\", res[\"lam_x\"]\n",
      "print \"%50s \" % \"Dual solution (nonlinear bounds):\", res[\"lam_g\"]"
     ],
     "language": "python",
     "metadata": {},
     "outputs": [
      {
       "output_type": "stream",
       "stream": "stdout",
       "text": [
        "\n",
        "                                     Optimal cost:  0\n",
        "                                  Primal solution:  [0, 1, 0]\n",
        "                    Dual solution (simple bounds):  [0, 0, 0]\n",
        "                 Dual solution (nonlinear bounds):  0\n"
       ]
      }
     ],
     "prompt_number": 7
    }
   ],
   "metadata": {}
  }
 ]
}